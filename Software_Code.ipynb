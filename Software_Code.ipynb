{
 "cells": [
  {
   "cell_type": "code",
   "execution_count": 3,
   "id": "78c01524",
   "metadata": {},
   "outputs": [],
   "source": [
    "from __future__ import print_function\n",
    "import scipy.io.wavfile as wavfile\n",
    "import scipy\n",
    "import scipy.fftpack\n",
    "from scipy.signal import argrelextrema\n",
    "import numpy as np\n",
    "from matplotlib import pyplot as plt\n",
    "\n",
    "listOfFingerprints = dict()"
   ]
  },
  {
   "cell_type": "code",
   "execution_count": 4,
   "id": "539be5fa",
   "metadata": {},
   "outputs": [],
   "source": [
    "def makeSongDict(listOfSongs):\n",
    "    # ==============================================\n",
    "\n",
    "    time_period = 1 # FFT time period (in seconds). Can comfortably process time frames from 0.05 seconds - 10 seconds\n",
    "\n",
    "    # ==============================================\n",
    "    \n",
    "    for filename in listOfSongs:\n",
    "\n",
    "        fs_rate, signal_original = wavfile.read(filename)\n",
    "        total_time = int(np.floor(len(signal_original)/fs_rate))\n",
    "        sample_range = np.arange(0,total_time,time_period)\n",
    "        total_samples = len(sample_range)\n",
    "\n",
    "        #print (\"Frequency sampling\", fs_rate)\n",
    "        #print (\"total time: \", total_time)\n",
    "        #print (\"sample time period: \", time_period)\n",
    "        #print (\"total samples: \", total_samples)\n",
    "\n",
    "        output_array = []\n",
    "        for i in sample_range:\n",
    "\n",
    "            #print (\"Processing: %d / %d (%d%%)\" % (i/time_period + 1, total_samples, (i/time_period + 1)*100/total_samples))\n",
    "\n",
    "            sample_start = int(i*fs_rate)\n",
    "            sample_end = int((i+time_period)*fs_rate)\n",
    "            signal = signal_original[sample_start:sample_end]\n",
    "\n",
    "\n",
    "            l_audio = len(signal.shape)\n",
    "            #print (\"Channels\", l_audio)\n",
    "\n",
    "            if l_audio == 2:\n",
    "                signal = signal.sum(axis=1) / 2\n",
    "            N = signal.shape[0]\n",
    "            #print (\"Complete Samplings N\", N)\n",
    "\n",
    "            secs = N / float(fs_rate)\n",
    "            # print (\"secs\", secs)\n",
    "            Ts = 1.0/fs_rate # sampling interval in time\n",
    "            #print (\"Timestep between samples Ts\", Ts)\n",
    "\n",
    "            t = scipy.arange(0, secs, Ts) # time vector as scipy arange field / numpy.ndarray\n",
    "\n",
    "            FFT = abs(scipy.fft.fft(signal))\n",
    "            FFT_side = FFT[range(int(N/2))] # one side FFT range\n",
    "            freqs = scipy.fftpack.fftfreq(signal.size, t[1]-t[0])\n",
    "            fft_freqs = np.array(freqs)\n",
    "            freqs_side = freqs[range(int(N/2))] # one side frequency range\n",
    "            fft_freqs_side = np.array(freqs_side)\n",
    "\n",
    "            # Reduce to 0-5000 Hz\n",
    "            bucket_size = 20\n",
    "            buckets = 16\n",
    "\n",
    "            FFT_side = FFT_side[0:bucket_size*buckets]\n",
    "            fft_freqs_side = fft_freqs_side[0:bucket_size*buckets]\n",
    "\n",
    "            # Combine frequencies into buckets\n",
    "            FFT_side = np.array([int(sum(FFT_side[current: current+bucket_size])) for current in range(0, len(FFT_side), bucket_size)])\n",
    "            fft_freqs_side = np.array([int(sum(fft_freqs_side[current: current+bucket_size])) for current in range(0, len(fft_freqs_side), bucket_size)])\n",
    "\n",
    "            # FFT_side: Normalize (0-1)\n",
    "            max_value = max(FFT_side)\n",
    "            if (max_value != 0):\n",
    "                FFT_side_norm = FFT_side / max_value\n",
    "\n",
    "            # Append to output array\n",
    "            output_array.append(FFT_side_norm)\n",
    "\n",
    "        fingerprint = abs(FFT_side_norm)\n",
    "        \n",
    "        listOfFingerprints[filename] = fingerprint\n",
    "        \n",
    "    \n",
    "# ============================================\n",
    "\n"
   ]
  },
  {
   "cell_type": "code",
   "execution_count": 5,
   "id": "6285d14b",
   "metadata": {},
   "outputs": [
    {
     "name": "stderr",
     "output_type": "stream",
     "text": [
      "/tmp/ipykernel_149/224038243.py:43: DeprecationWarning: scipy.arange is deprecated and will be removed in SciPy 2.0.0, use numpy.arange instead\n",
      "  t = scipy.arange(0, secs, Ts) # time vector as scipy arange field / numpy.ndarray\n",
      "/tmp/ipykernel_149/224038243.py:10: WavFileWarning: Chunk (non-data) not understood, skipping it.\n",
      "  fs_rate, signal_original = wavfile.read(filename)\n"
     ]
    }
   ],
   "source": [
    "songs = [\"tyler.wav\", \"silversurfer.wav\"]\n",
    "makeSongDict(songs)"
   ]
  },
  {
   "cell_type": "code",
   "execution_count": 6,
   "id": "0036e1db",
   "metadata": {},
   "outputs": [
    {
     "name": "stdout",
     "output_type": "stream",
     "text": [
      "{'tyler.wav': array([0.14112344, 0.06952711, 0.08910117, 0.16654644, 0.33784761,\n",
      "       0.24616993, 0.92745424, 0.48507347, 0.33984693, 0.43485961,\n",
      "       0.44726484, 0.37013433, 0.57663084, 1.        , 0.84133715,\n",
      "       0.44747777]), 'silversurfer.wav': array([0.01915879, 0.02890055, 0.06931221, 0.14088916, 0.23894789,\n",
      "       0.65926529, 0.48677785, 0.91207645, 0.68130914, 0.62856001,\n",
      "       0.52670241, 0.69394637, 0.75728238, 1.        , 0.70828008,\n",
      "       0.96012748])}\n"
     ]
    }
   ],
   "source": [
    "print(listOfFingerprints)"
   ]
  },
  {
   "cell_type": "code",
   "execution_count": 36,
   "id": "a1ecfe97",
   "metadata": {},
   "outputs": [],
   "source": [
    "import copy\n",
    "\n",
    "def compare(testList,dictionary):\n",
    "    #create a list of scores the same length of lists\n",
    "    scores = []\n",
    "    \n",
    "    songLists=list(dictionary.values())\n",
    "    songNameList = list(dictionary)\n",
    "    print(songLists)\n",
    "    print(scores)\n",
    "    \n",
    "    for songFFT in songLists:\n",
    "        \n",
    "        scores.append(np.allclose(songFFT, testList, .0005, .00005))\n",
    "    \n",
    "    songIndex = scores.index(True)\n",
    "    songKey = songNameList[songIndex]\n",
    "        \n",
    "    \n",
    "    \n",
    "    print(songKey)"
   ]
  },
  {
   "cell_type": "code",
   "execution_count": 37,
   "id": "83e3793b",
   "metadata": {},
   "outputs": [
    {
     "name": "stdout",
     "output_type": "stream",
     "text": [
      "[array([0.14112344, 0.06952711, 0.08910117, 0.16654644, 0.33784761,\n",
      "       0.24616993, 0.92745424, 0.48507347, 0.33984693, 0.43485961,\n",
      "       0.44726484, 0.37013433, 0.57663084, 1.        , 0.84133715,\n",
      "       0.44747777]), array([0.01915879, 0.02890055, 0.06931221, 0.14088916, 0.23894789,\n",
      "       0.65926529, 0.48677785, 0.91207645, 0.68130914, 0.62856001,\n",
      "       0.52670241, 0.69394637, 0.75728238, 1.        , 0.70828008,\n",
      "       0.96012748])]\n",
      "[]\n",
      "tyler.wav\n"
     ]
    }
   ],
   "source": [
    "testList = [0.14112344, 0.06952711, 0.08910117, 0.16654644, 0.33784761,\n",
    "       0.24616993, 0.92745424, 0.48507347, 0.33984693, 0.43485961,\n",
    "       0.44726484, 0.37013433, 0.57663084, 1.        , 0.84133715,\n",
    "       0.44747777]\n",
    "\n",
    "compare(testList, listOfFingerprints)"
   ]
  },
  {
   "cell_type": "code",
   "execution_count": 2,
   "id": "926e8a1e",
   "metadata": {},
   "outputs": [
    {
     "data": {
      "image/png": "[encoded data removed]",
      "text/plain": [
       "<Figure size 576x720 with 3 Axes>"
      ]
     },
     "metadata": {
      "needs_background": "light"
     },
     "output_type": "display_data"
    }
   ],
   "source": [
    "# Plotting\n",
    "\n",
    "\n",
    "plt.figure(figsize=(8,10))\n",
    "\n",
    "plt.subplot(412)\n",
    "diff = np.diff(fft_freqs_side)\n",
    "widths = np.hstack([diff, diff[-1]])\n",
    "plt.bar(fft_freqs_side, abs(FFT_side_norm), width=widths) # plotting the positive fft spectrum\n",
    "plt.xticks(fft_freqs_side, fft_freqs_side, rotation='vertical')\n",
    "plt.xlabel('Frequency (Hz)')\n",
    "plt.ylabel('Count single-sided')\n",
    "\n",
    "FFT_side_norm_line = FFT_side_norm.copy()\n",
    "FFT_side_norm_line.resize( (1,buckets) )\n",
    "\n",
    "plt.subplot(413)\n",
    "plt.imshow(FFT_side_norm_line)\n",
    "plt.axis('off')\n",
    "plt.title('Image Representation (1D)')\n",
    "\n",
    "width_img = int(np.sqrt(buckets))\n",
    "height_img = int(np.ceil(buckets / int(np.sqrt(buckets))))\n",
    "FFT_side_norm_rect = FFT_side_norm.copy()\n",
    "FFT_side_norm_rect.resize( (width_img,height_img) )\n",
    "\n",
    "plt.subplot(414)\n",
    "plt.imshow(FFT_side_norm_rect)\n",
    "plt.axis('off')\n",
    "plt.title('Image Representation (2D): %d x %d' % (width_img,height_img))\n",
    "\n",
    "plt.show()"
   ]
  }
 ],
 "metadata": {
  "kernelspec": {
   "display_name": "Python 3 (ipykernel)",
   "language": "python",
   "name": "python3"
  },
  "language_info": {
   "codemirror_mode": {
    "name": "ipython",
    "version": 3
   },
   "file_extension": ".py",
   "mimetype": "text/x-python",
   "name": "python",
   "nbconvert_exporter": "python",
   "pygments_lexer": "ipython3",
   "version": "3.8.10"
  }
 },
 "nbformat": 4,
 "nbformat_minor": 5
}
